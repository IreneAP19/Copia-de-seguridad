{
 "cells": [
  {
   "attachments": {},
   "cell_type": "markdown",
   "metadata": {},
   "source": [
    "## Juego del Ahorcado\n",
    "Desarrolla el juego del ahorcado en python. En cada turno irá mostrando por pantalla ```_ _ _ _ _``` las rayas bajas correspondientes al número de letras que tiene la palabra a adivinar. El usuario deberá insertar una letra y, si esa letra existe, se mostrará o mostrarán las letras acertadas ```S _ S _ _``` en sus posiciones correspondientes. \n",
    "\n",
    "Si falla, se mostrará el número de errores que lleva y, si lleva x errores, entonces se mostrará \"Fin del juego\"."
   ]
  },
  {
   "cell_type": "markdown",
   "metadata": {},
   "source": [
    "1. Inicializa el juego: declara una palabra a adivinar y muestra por pantalla la palabra oculta. (En clase)\n"
   ]
  },
  {
   "cell_type": "markdown",
   "metadata": {},
   "source": [
    "\n",
    "```python\n",
    "_ _ _ _ _ _ _ _\n",
    "```"
   ]
  },
  {
   "cell_type": "code",
   "execution_count": null,
   "metadata": {},
   "outputs": [
    {
     "name": "stdout",
     "output_type": "stream",
     "text": [
      "_ _ _ _ _ _ _ _ _\n",
      "Tienes 4 vidas\n"
     ]
    },
    {
     "ename": "KeyboardInterrupt",
     "evalue": "Interrupted by user",
     "output_type": "error",
     "traceback": [
      "\u001b[1;31m---------------------------------------------------------------------------\u001b[0m",
      "\u001b[1;31mKeyboardInterrupt\u001b[0m                         Traceback (most recent call last)",
      "Cell \u001b[1;32mIn[11], line 33\u001b[0m\n\u001b[0;32m     16\u001b[0m \u001b[38;5;66;03m#ARRANCA EL JUEGO\u001b[39;00m\n\u001b[0;32m     17\u001b[0m     \u001b[38;5;66;03m#condiciones para poder jugar:\u001b[39;00m\n\u001b[0;32m     18\u001b[0m         \u001b[38;5;66;03m# el juego sigue si la palabra sigue incompleta Y sigo teniendo vidas\u001b[39;00m\n\u001b[1;32m   (...)\u001b[0m\n\u001b[0;32m     28\u001b[0m             \u001b[38;5;66;03m#me dice las letras que llevo falladas\u001b[39;00m\n\u001b[0;32m     29\u001b[0m             \u001b[38;5;66;03m#vuelvo a escribir una letra SI tengo vidas\u001b[39;00m\n\u001b[0;32m     32\u001b[0m \u001b[38;5;28;01mwhile\u001b[39;00m palabra \u001b[38;5;241m!=\u001b[39m p_juego \u001b[38;5;129;01mand\u001b[39;00m vidas \u001b[38;5;241m!=\u001b[39m\u001b[38;5;241m0\u001b[39m:\u001b[38;5;66;03m#otra forma seria while (\"_\" in palabra) and vidas !=0(mira que no tengamos mas guiones)\u001b[39;00m\n\u001b[1;32m---> 33\u001b[0m     letra\u001b[38;5;241m=\u001b[39m \u001b[38;5;28;43minput\u001b[39;49m\u001b[43m(\u001b[49m\u001b[38;5;124;43m\"\u001b[39;49m\u001b[38;5;124;43mDime una letra: \u001b[39;49m\u001b[38;5;124;43m\"\u001b[39;49m\u001b[43m)\u001b[49m\n\u001b[0;32m     35\u001b[0m     \u001b[38;5;28;01mif\u001b[39;00m letra \u001b[38;5;129;01min\u001b[39;00m palabra:\n\u001b[0;32m     36\u001b[0m         \u001b[38;5;28mprint\u001b[39m(\u001b[38;5;124m\"\u001b[39m\u001b[38;5;124mHas acertado:\u001b[39m\u001b[38;5;124m\"\u001b[39m)\n",
      "File \u001b[1;32m~\\AppData\\Roaming\\Python\\Python310\\site-packages\\ipykernel\\kernelbase.py:1282\u001b[0m, in \u001b[0;36mKernel.raw_input\u001b[1;34m(self, prompt)\u001b[0m\n\u001b[0;32m   1280\u001b[0m     msg \u001b[38;5;241m=\u001b[39m \u001b[38;5;124m\"\u001b[39m\u001b[38;5;124mraw_input was called, but this frontend does not support input requests.\u001b[39m\u001b[38;5;124m\"\u001b[39m\n\u001b[0;32m   1281\u001b[0m     \u001b[38;5;28;01mraise\u001b[39;00m StdinNotImplementedError(msg)\n\u001b[1;32m-> 1282\u001b[0m \u001b[38;5;28;01mreturn\u001b[39;00m \u001b[38;5;28;43mself\u001b[39;49m\u001b[38;5;241;43m.\u001b[39;49m\u001b[43m_input_request\u001b[49m\u001b[43m(\u001b[49m\n\u001b[0;32m   1283\u001b[0m \u001b[43m    \u001b[49m\u001b[38;5;28;43mstr\u001b[39;49m\u001b[43m(\u001b[49m\u001b[43mprompt\u001b[49m\u001b[43m)\u001b[49m\u001b[43m,\u001b[49m\n\u001b[0;32m   1284\u001b[0m \u001b[43m    \u001b[49m\u001b[38;5;28;43mself\u001b[39;49m\u001b[38;5;241;43m.\u001b[39;49m\u001b[43m_parent_ident\u001b[49m\u001b[43m[\u001b[49m\u001b[38;5;124;43m\"\u001b[39;49m\u001b[38;5;124;43mshell\u001b[39;49m\u001b[38;5;124;43m\"\u001b[39;49m\u001b[43m]\u001b[49m\u001b[43m,\u001b[49m\n\u001b[0;32m   1285\u001b[0m \u001b[43m    \u001b[49m\u001b[38;5;28;43mself\u001b[39;49m\u001b[38;5;241;43m.\u001b[39;49m\u001b[43mget_parent\u001b[49m\u001b[43m(\u001b[49m\u001b[38;5;124;43m\"\u001b[39;49m\u001b[38;5;124;43mshell\u001b[39;49m\u001b[38;5;124;43m\"\u001b[39;49m\u001b[43m)\u001b[49m\u001b[43m,\u001b[49m\n\u001b[0;32m   1286\u001b[0m \u001b[43m    \u001b[49m\u001b[43mpassword\u001b[49m\u001b[38;5;241;43m=\u001b[39;49m\u001b[38;5;28;43;01mFalse\u001b[39;49;00m\u001b[43m,\u001b[49m\n\u001b[0;32m   1287\u001b[0m \u001b[43m\u001b[49m\u001b[43m)\u001b[49m\n",
      "File \u001b[1;32m~\\AppData\\Roaming\\Python\\Python310\\site-packages\\ipykernel\\kernelbase.py:1325\u001b[0m, in \u001b[0;36mKernel._input_request\u001b[1;34m(self, prompt, ident, parent, password)\u001b[0m\n\u001b[0;32m   1322\u001b[0m \u001b[38;5;28;01mexcept\u001b[39;00m \u001b[38;5;167;01mKeyboardInterrupt\u001b[39;00m:\n\u001b[0;32m   1323\u001b[0m     \u001b[38;5;66;03m# re-raise KeyboardInterrupt, to truncate traceback\u001b[39;00m\n\u001b[0;32m   1324\u001b[0m     msg \u001b[38;5;241m=\u001b[39m \u001b[38;5;124m\"\u001b[39m\u001b[38;5;124mInterrupted by user\u001b[39m\u001b[38;5;124m\"\u001b[39m\n\u001b[1;32m-> 1325\u001b[0m     \u001b[38;5;28;01mraise\u001b[39;00m \u001b[38;5;167;01mKeyboardInterrupt\u001b[39;00m(msg) \u001b[38;5;28;01mfrom\u001b[39;00m \u001b[38;5;28;01mNone\u001b[39;00m\n\u001b[0;32m   1326\u001b[0m \u001b[38;5;28;01mexcept\u001b[39;00m \u001b[38;5;167;01mException\u001b[39;00m:\n\u001b[0;32m   1327\u001b[0m     \u001b[38;5;28mself\u001b[39m\u001b[38;5;241m.\u001b[39mlog\u001b[38;5;241m.\u001b[39mwarning(\u001b[38;5;124m\"\u001b[39m\u001b[38;5;124mInvalid Message:\u001b[39m\u001b[38;5;124m\"\u001b[39m, exc_info\u001b[38;5;241m=\u001b[39m\u001b[38;5;28;01mTrue\u001b[39;00m)\n",
      "\u001b[1;31mKeyboardInterrupt\u001b[0m: Interrupted by user"
     ]
    }
   ],
   "source": [
    "#Hago dos listas ya que me va a ser más facil compararlas asi que en string y una de letras falladas\n",
    "\n",
    "letras_falladas=[]#hago una lista vacia para ir añadiendo las letras que he fallado\n",
    "palabra = list(\"ordenador\")\n",
    "p_juego = list(\"_\"*len(palabra))#le digo que esta lista esta formada por un guion por cada elemento de la lista palabra\n",
    "print(*p_juego)\n",
    "\n",
    "\n",
    "#Pongo la condicion de vidas segun la longitud de la palabra\n",
    "if len(palabra)> 10:\n",
    "    vidas = 6\n",
    "else:\n",
    "    vidas = 4\n",
    "print(f\"Tienes {vidas} vidas\")\n",
    "\n",
    "#ARRANCA EL JUEGO\n",
    "    #condiciones para poder jugar:\n",
    "        # el juego sigue si la palabra sigue incompleta Y sigo teniendo vidas\n",
    "        # el juego acaba si me quedo sin vidas (PIERDO) o si adivino todas las letrsa (GANO)\n",
    "    #introduzco una letra:\n",
    "        # si la letra esta en palabra saco la \"\"NUEVA CADENA\"\" y tengo dos opciones:\n",
    "            #1. sigo poniendo letras porque no se la solucion\n",
    "            #2. resuelvo\n",
    "                #si resuelvo o acierto (GANO) o fallo (PIERDO)\n",
    "        \n",
    "        #si he fallado la letra:\n",
    "            #pierdo una vida\n",
    "            #me dice las letras que llevo falladas\n",
    "            #vuelvo a escribir una letra SI tengo vidas\n",
    "\n",
    "\n",
    "while palabra != p_juego and vidas !=0:#otra forma seria while (\"_\" in palabra) and vidas !=0(mira que no tengamos mas guiones)\n",
    "    letra= input(\"Dime una letra: \")\n",
    "    \n",
    "    if letra in palabra:\n",
    "        print(\"Has acertado:\")\n",
    "\n",
    "        #para la nueva cadena necesito que la letra ocupe la misma posicion en p_juego que en palabra\n",
    "        #enumerate lo uso por si la letrase repite varias veces que no se quede solo con la primera que aparezca\n",
    "            #\"\"otra forma: for i in range(len(palabra))\"\"\n",
    "            \n",
    "        for indice, i in enumerate(palabra):#busco la posicion de la letra en la palabra con enumerate(lista que almacena posicion y valor). \n",
    "            #Para ello tomo los indices y elementos (letras) de palabra\n",
    "            if letra == i: #hago un condicional: cuando la letra es igual al caracter de la palabra entonces dame su indice(con enumerate tengo todos los caracteres y los indices de palabra)\n",
    "                p_juego[indice]=letra #sustituyo el elemento de \"p_juego\" del indice dado  por la letra de \"palabra\"\n",
    "        print(*p_juego)#sacame la nueva lista con la letra sustituida\n",
    "                       # si pongo este print con el if me saca la p_juego una vez por cada vez que se repita la letra(si se repite dos veces la \"o\" en vez de sacarmela a la vez me lo saca en dos pasos)\n",
    "        \n",
    "\n",
    "        seguir_resolver = input(\"¿Quieres resolver o seguir jugando?\")\n",
    "        if seguir_resolver == \"resolver\":\n",
    "                solucion = list(input(\"Escribe la respuesta: \"))#lo pongo como lita para poder comparar con palabra si no seri str y lista\n",
    "\n",
    "                if solucion == palabra:\n",
    "                    print(\"Has ganado\")\n",
    "                else:\n",
    "                    print(f\"Has perdido la palabra era {p_juego}\")\n",
    "\n",
    "\n",
    "    else:\n",
    "        vidas = vidas -1\n",
    "        print(f\"Has fallado, te quedan {vidas} vidas\")\n",
    "        letras_falladas.append(letra)\n",
    "        print(f\"Has fallado estas letras: {letras_falladas} \")#lista de letras que he fallado\n",
    "#Hago un estudio de los dos ultimos casos\n",
    "if vidas == 0:\n",
    "    print(f\"Has perdido, te has quedado sin vidas, la palabra era {p_juego}\")\n",
    "\n",
    "elif p_juego == palabra:\n",
    "    print(\"Has ganado\")"
   ]
  },
  {
   "cell_type": "markdown",
   "metadata": {},
   "source": [
    "2. Funcionamiento turnos: mediante un bucle genera el sistema de turnos donde el usuario introduce una letra y le va mostrando su progreso y sus vidas. (En clase)"
   ]
  },
  {
   "cell_type": "code",
   "execution_count": null,
   "metadata": {},
   "outputs": [],
   "source": []
  },
  {
   "cell_type": "markdown",
   "metadata": {},
   "source": [
    "3. Desarrolla la finalización de la partida, tanto si gana como si pierde."
   ]
  },
  {
   "cell_type": "code",
   "execution_count": null,
   "metadata": {},
   "outputs": [],
   "source": []
  },
  {
   "cell_type": "markdown",
   "metadata": {},
   "source": [
    "4. Encapsula el juego en una función llamada ```jugar_ahorcado()``` con la palabra a adivinar y el número de vidas para seleccionar la dificultad como argumentos de entrada."
   ]
  },
  {
   "cell_type": "code",
   "execution_count": null,
   "metadata": {},
   "outputs": [],
   "source": []
  },
  {
   "cell_type": "markdown",
   "metadata": {},
   "source": [
    "5. Termina el juego\n",
    "\n",
    "- **Encapsula la lógica del juego en una función** llamada `jugar_ahorcado` en un archivo `utils.py`.\n",
    "- **Crea un archivo `main.py`** desde donde se ejecutará el juego importando la función `jugar_ahorcado`.\n",
    "- **Prueba el juego desde la terminal** para asegurarte de que funciona correctamente.\n",
    "- **Sube tu proyecto a un repositorio en GitHub**.\n",
    "- **Presenta tu juego a tus compañeros desde la terminal**"
   ]
  }
 ],
 "metadata": {
  "kernelspec": {
   "display_name": "Python 3",
   "language": "python",
   "name": "python3"
  },
  "language_info": {
   "codemirror_mode": {
    "name": "ipython",
    "version": 3
   },
   "file_extension": ".py",
   "mimetype": "text/x-python",
   "name": "python",
   "nbconvert_exporter": "python",
   "pygments_lexer": "ipython3",
   "version": "3.10.5"
  },
  "orig_nbformat": 4
 },
 "nbformat": 4,
 "nbformat_minor": 2
}
