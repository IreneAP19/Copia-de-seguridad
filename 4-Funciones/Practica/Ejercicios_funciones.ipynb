{
 "cells": [
  {
   "cell_type": "markdown",
   "metadata": {},
   "source": [
    "![imagen](./img/ejercicios.png)"
   ]
  },
  {
   "cell_type": "markdown",
   "metadata": {},
   "source": [
    "# Ejercicios funciones\n",
    "## Ejercicio 1\n",
    "Escribe una función que convierta números del 1 al 7 en nombres de los dias de la semana. La función constará de un único argumento numérico y una salida de tipo string"
   ]
  },
  {
   "cell_type": "code",
   "execution_count": 174,
   "metadata": {},
   "outputs": [
    {
     "data": {
      "text/plain": [
       "'defino una lista con los dias de la semana\\n        cada dia tiene un indice y un valor dentro de la lista\\n            si el numero que pongo es igual a algun indice de la lista\\n                devuelveme el valor de la lista en el indice=numero metido'"
      ]
     },
     "execution_count": 174,
     "metadata": {},
     "output_type": "execute_result"
    }
   ],
   "source": [
    "def num_dias(num):\n",
    "    dias= [\"Lunes\", \"Martes\", \"Miercoles\", \"Jueves\", \"Viernes\", \"Sabado\", \"Domingo\"]\n",
    "    for indice, valor in (enumerate(dias)):\n",
    "        \n",
    "        if indice==num:\n",
    "            return f\"el dia numero {num } es {dias[num-1]}\"#le quito uno a dias ya que empieza la lista a contar en 0\n",
    "        \n",
    "\n",
    "'''defino una lista con los dias de la semana\n",
    "        cada dia tiene un indice y un valor dentro de la lista\n",
    "            si el numero que pongo es igual a algun indice de la lista\n",
    "                devuelveme el valor de la lista en el indice=numero metido'''\n",
    "\n"
   ]
  },
  {
   "cell_type": "code",
   "execution_count": 175,
   "metadata": {},
   "outputs": [
    {
     "name": "stdout",
     "output_type": "stream",
     "text": [
      "el dia numero 1 es Lunes\n",
      "<class 'str'>\n"
     ]
    }
   ],
   "source": [
    "numero = num_dias(1)\n",
    "print(numero)\n",
    "print(type(numero))"
   ]
  },
  {
   "cell_type": "markdown",
   "metadata": {},
   "source": [
    "## Ejercicio 2\n",
    "En el ejercicio 8 de flujos de control, creábamos una pirámide invertida de números desde el 5. Crea una función que replique el comportamiento de la pirámide, y utiliza un único parámetro de entrada de la función para determinar el número de filas de la pirámide."
   ]
  },
  {
   "cell_type": "code",
   "execution_count": 176,
   "metadata": {},
   "outputs": [],
   "source": [
    "def piramide_invertida(num):\n",
    "    \n",
    "    for i in range(num,5,-1):#filas\n",
    "        for j in range(5, num):#columnas\n",
    "            print()\n",
    "\n",
    "    num-=1\n",
    "        \n",
    "    "
   ]
  },
  {
   "cell_type": "code",
   "execution_count": 177,
   "metadata": {},
   "outputs": [
    {
     "name": "stdout",
     "output_type": "stream",
     "text": [
      "None\n"
     ]
    }
   ],
   "source": [
    "numeros_piramide = piramide_invertida(5)\n",
    "print(numeros_piramide)"
   ]
  },
  {
   "cell_type": "markdown",
   "metadata": {},
   "source": [
    "## Ejercicio 3\n",
    "Escribe una función que compare dos números. La función tiene dos argumentos y hay tres salidas posibles: que sean iguales, que el primero sea  mayor que el segundo, o que el segundo sea mayor que el primero"
   ]
  },
  {
   "cell_type": "code",
   "execution_count": 178,
   "metadata": {},
   "outputs": [],
   "source": [
    "def comparar_numeros(num1,num2):\n",
    "    if num1 == num2:\n",
    "        out = \"Son iguales\"\n",
    "    elif num1>num2:\n",
    "        out = f\"{num1} es mayor que {num2}\"\n",
    "    else:\n",
    "        out = f\"{num2} es mayor que {num1}\"\n",
    "    return out"
   ]
  },
  {
   "cell_type": "code",
   "execution_count": 179,
   "metadata": {},
   "outputs": [
    {
     "name": "stdout",
     "output_type": "stream",
     "text": [
      "5 es mayor que 2\n"
     ]
    }
   ],
   "source": [
    "numeros_a_comparar = comparar_numeros(2,5)\n",
    "print(numeros_a_comparar)"
   ]
  },
  {
   "attachments": {},
   "cell_type": "markdown",
   "metadata": {},
   "source": [
    "## Ejercicio 4\n",
    "Escribe una función que sea un contador de letras. En el primer argumento tienes que introducir un texto, y el segundo que sea una letra que contar. La función tiene que devolver un entero con el número de veces que aparece esa letra, tanto mayúscula, como minúscula"
   ]
  },
  {
   "cell_type": "code",
   "execution_count": 180,
   "metadata": {},
   "outputs": [],
   "source": [
    "def contador_letras(texto, letra):\n",
    "    #letra_repetida= []  '''Creo una lista vacia donde voy a meter la letra que se repite'''\n",
    "    contador = 0\n",
    "    '''creo un contador a 0 donde voy a añadir el numero de veces que se repite una letra'''\n",
    "    '''Pongo todo en minuscula'''\n",
    "    letra = letra.lower()\n",
    "    texto = texto.lower()\n",
    "    '''para cada elemento del texto\n",
    "        si la letra coincide \n",
    "                añadelo a la lista\n",
    "                dime cuantos elementos tiene la lista\n",
    "        devuelveme el numero de elementos de la lista= veces que se repite la letra'''\n",
    "    for i in texto:\n",
    "        if letra == i:\n",
    "            contador += 1\n",
    "            #letra_repetida+=letra\n",
    "            #medida = len(letra_repetida)\n",
    "        #return contador\n",
    "    return contador"
   ]
  },
  {
   "cell_type": "code",
   "execution_count": 181,
   "metadata": {},
   "outputs": [
    {
     "name": "stdout",
     "output_type": "stream",
     "text": [
      "2\n"
     ]
    }
   ],
   "source": [
    "texto_letra = contador_letras(\"hola como  estas\", \"a\")\n",
    "print(texto_letra)"
   ]
  },
  {
   "cell_type": "markdown",
   "metadata": {},
   "source": [
    "## Ejercicio 5\n",
    "Escribe una función que tenga un único argumento, un string. La salida de la función tiene que ser un diccionario con el conteo de todas las letras de ese string, siendo la clave la letra y el valor el conteo."
   ]
  },
  {
   "cell_type": "code",
   "execution_count": 182,
   "metadata": {},
   "outputs": [
    {
     "data": {
      "text/plain": [
       "'Creo un diccionario vacio\\n    para cada elemento(letra) del string \\n        añadelo al diccionario y asignale cuantas veces aaparece'"
      ]
     },
     "execution_count": 182,
     "metadata": {},
     "output_type": "execute_result"
    }
   ],
   "source": [
    "def string_dic(string):\n",
    "    dic={}\n",
    "    for elemento in string:\n",
    "        dic[elemento]= string.count(elemento)\n",
    "    return dic\n",
    "\n",
    "'''Creo un diccionario vacio\n",
    "    para cada elemento(letra) del string \n",
    "        añadelo al diccionario y asignale cuantas veces aaparece'''"
   ]
  },
  {
   "cell_type": "code",
   "execution_count": 183,
   "metadata": {},
   "outputs": [
    {
     "name": "stdout",
     "output_type": "stream",
     "text": [
      "{'H': 1, 'o': 3, 'l': 1, 'a': 2, ' ': 2, 'c': 1, 'm': 1, 'e': 1, 's': 2, 't': 1}\n"
     ]
    }
   ],
   "source": [
    "string = string_dic(\"Hola como estas\")\n",
    "print(string)"
   ]
  },
  {
   "cell_type": "markdown",
   "metadata": {},
   "source": [
    "## Ejercicio 6\n",
    "Escribir una función que añada o elimine elementos en una lista. La función necesita los siguientes argumentos:\n",
    "* lista: la lista donde se añadirán o eliminarán los elementos\n",
    "* comando: \"add\" o \"remove\"\n",
    "* elemento: Por defecto es None.\n",
    "\n",
    "Tendrá como salida la lista"
   ]
  },
  {
   "cell_type": "code",
   "execution_count": 184,
   "metadata": {},
   "outputs": [],
   "source": [
    "def cambio_lista(lista,comando,elemento = None):\n",
    "    if elemento != None:\n",
    "        if comando == \"añadir\":\n",
    "            lista.append(elemento)\n",
    "            return lista\n",
    "        elif comando == \"quitar\":\n",
    "            lista.remove(elemento)\n",
    "            return lista\n",
    "    else:\n",
    "        return lista\n",
    "    '''declaro las variables y fijo una\n",
    "        si el elemento es distinto del que he establecido\n",
    "            si quiero añadir uso .append(elemento que he puesto)\n",
    "            si no lo quito .remove\n",
    "        si no hay cambio dame la lista'''"
   ]
  },
  {
   "cell_type": "code",
   "execution_count": 185,
   "metadata": {},
   "outputs": [
    {
     "name": "stdout",
     "output_type": "stream",
     "text": [
      "[1, 2, 3, 4, 5]\n"
     ]
    }
   ],
   "source": [
    "lista_inicial = cambio_lista(lista=[1,2,3,4,5], comando =\"añadir\", )\n",
    "print(lista_inicial)"
   ]
  },
  {
   "cell_type": "markdown",
   "metadata": {},
   "source": [
    "## Ejercicio 7\n",
    "Crea una función que reciba un número arbitrario de palabras, y devuelva una frase completa, separando las palabras con espacios."
   ]
  },
  {
   "cell_type": "code",
   "execution_count": 186,
   "metadata": {},
   "outputs": [
    {
     "data": {
      "text/plain": [
       "'declaro una funcion con un numero indeterminado de argumentos\\n    creo un string vacio\\n        para cada palabra que introduzca le pido que la incluya junto a un espacio en mi string\\n    devuelveme la frase\\n    '"
      ]
     },
     "execution_count": 186,
     "metadata": {},
     "output_type": "execute_result"
    }
   ],
   "source": [
    "def palabra(*args):\n",
    "    frase =\" \"\n",
    "    for i in args:\n",
    "        frase = frase + \" \" + i\n",
    "    return frase\n",
    "'''declaro una funcion con un numero indeterminado de argumentos\n",
    "    creo un string vacio\n",
    "        para cada palabra que introduzca le pido que la incluya junto a un espacio en mi string\n",
    "    devuelveme la frase\n",
    "    '''"
   ]
  },
  {
   "cell_type": "code",
   "execution_count": 187,
   "metadata": {},
   "outputs": [
    {
     "name": "stdout",
     "output_type": "stream",
     "text": [
      "  hola como te encuentras\n"
     ]
    }
   ],
   "source": [
    "palabras = palabra(\"hola\",\"como\",\"te\", \"encuentras\")\n",
    "print(palabras)"
   ]
  },
  {
   "cell_type": "markdown",
   "metadata": {},
   "source": [
    "## Ejercicio 8\n",
    "Escribe un programa que obtenga el enésimo número de la [serie de Fibonacci](https://es.wikipedia.org/wiki/Sucesi%C3%B3n_de_Fibonacci). Tienes que crear una función recursiva con un único argumento.\n",
    "\n",
    "```Python\n",
    "fibonacci(2) = 1\n",
    "fibonacci(4) = 3\n",
    "fibonacci(5) = 5\n",
    "fibonacci(8) = 21\n",
    "```"
   ]
  },
  {
   "cell_type": "code",
   "execution_count": 188,
   "metadata": {},
   "outputs": [],
   "source": [
    "def num_fibo(n):\n",
    "     fibo = [0,1]#creo una lista de fibonacci con los dos primero valores\n",
    "     for i in range(2,n+1):#para cada valor(i) entre el segundo valor(el 0 y 1 se lo salta) hasta n+1 (pq el rango me quita uno)\n",
    "          siguiente_num = fibo[-1] + fibo[-2]#el siguinte valor de fibonacci seran los que ocupan los dos ultimos lugares de la lista\n",
    "          #0 +1 =1 --> 0 [1 1]\n",
    "          #1+1=2 -->0 1 [1 2]\n",
    "          #1 + 2 =3 --> 0 1 1 {2 3}\n",
    "          #esto me lo hace hasta llegar a n+1\n",
    "          fibo.append(siguiente_num)#añade el siguiete valor de fibonacci a la lista\n",
    "     return fibo[-1]#devuelve le ultimo valor de la sucesion\n"
   ]
  },
  {
   "cell_type": "code",
   "execution_count": 189,
   "metadata": {},
   "outputs": [
    {
     "name": "stdout",
     "output_type": "stream",
     "text": [
      "21\n"
     ]
    }
   ],
   "source": [
    "sucesion = num_fibo(8)\n",
    "print(sucesion)"
   ]
  },
  {
   "attachments": {},
   "cell_type": "markdown",
   "metadata": {},
   "source": [
    "## Ejercicio 9\n",
    "Define en una única celda las siguientes funciones:\n",
    "* Función que calcule el área de un cuadrado\n",
    "* Función que calcule el área de un triángulo\n",
    "* Función que calcule el área de un círculo\n",
    "\n",
    "En otra celda, calcular el area de:\n",
    "* Dos círculos de radio 10 + un triángulo de base 3 y altura 7\n",
    "* Un cuadrado de lado = 10 + 3 círculos (uno de radio = 4 y los otros dos de radio = 6) + 5 triángulos de base = 2 + altura = 4"
   ]
  },
  {
   "cell_type": "code",
   "execution_count": null,
   "metadata": {},
   "outputs": [],
   "source": []
  },
  {
   "cell_type": "markdown",
   "metadata": {},
   "source": [
    "## Ejercicio 10\n",
    "\n",
    "Guarda las funciones de estos ejercicios en un fichero llamado `funciones.py` e importalas desde este jupyter notebook para probar que puedes hacer uso de ellas."
   ]
  },
  {
   "cell_type": "code",
   "execution_count": null,
   "metadata": {},
   "outputs": [],
   "source": []
  }
 ],
 "metadata": {
  "kernelspec": {
   "display_name": "Python 3",
   "language": "python",
   "name": "python3"
  },
  "language_info": {
   "codemirror_mode": {
    "name": "ipython",
    "version": 3
   },
   "file_extension": ".py",
   "mimetype": "text/x-python",
   "name": "python",
   "nbconvert_exporter": "python",
   "pygments_lexer": "ipython3",
   "version": "3.10.5"
  }
 },
 "nbformat": 4,
 "nbformat_minor": 4
}
